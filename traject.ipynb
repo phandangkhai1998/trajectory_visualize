{
 "cells": [
  {
   "cell_type": "code",
   "execution_count": 4,
   "metadata": {},
   "outputs": [
    {
     "name": "stderr",
     "output_type": "stream",
     "text": [
      "C:\\Users\\phand\\AppData\\Local\\Temp\\ipykernel_28276\\1148091661.py:19: RuntimeWarning: divide by zero encountered in scalar divide\n",
      "  d2r_dλ2 = -G * M / r**2 + L**2 / r**3 - 3 * G * M * L**2 / r**4\n",
      "C:\\Users\\phand\\AppData\\Local\\Temp\\ipykernel_28276\\1148091661.py:19: RuntimeWarning: invalid value encountered in scalar add\n",
      "  d2r_dλ2 = -G * M / r**2 + L**2 / r**3 - 3 * G * M * L**2 / r**4\n"
     ]
    }
   ],
   "source": [
    "import numpy as np\n",
    "from scipy.integrate import solve_ivp\n",
    "\n",
    "# Constants\n",
    "epsilon = 1/2  # Energy constant\n",
    "G = 1       # Gravitational constant\n",
    "M = 1        # Mass of the central body\n",
    "L = 1       # Angular momentum per unit mass\n",
    "# Set these constants to the values you need.\n",
    "\n",
    "# Define the potential function\n",
    "def V(r):\n",
    "    return -epsilon/2 - (G * M / r) + (L**2 / (2 * r**2)) - (G * M * L**2 / r**3)\n",
    "\n",
    "# The differential equation in the form of dr/dλ = f(r, λ)\n",
    "def ode_system(λ, y):\n",
    "    r = y[0]\n",
    "    dr_dλ = y[1]\n",
    "    d2r_dλ2 = -G * M / r**2 + L**2 / r**3 - 3 * G * M * L**2 / r**4\n",
    "    return [dr_dλ, d2r_dλ2]\n",
    "\n",
    "# Initial conditions: r(0) and dr/dλ(0)\n",
    "# You need to set these initial conditions according to your specific problem.\n",
    "r0 = 0       # Initial position\n",
    "dr_dλ0 = 1   # Initial change of r with respect to λ\n",
    "\n",
    "# Define the span of λ for which we solve the equation and initial conditions\n",
    "λ_span = (0, 10)  # for example: from 0 to 10\n",
    "y0 = [r0, dr_dλ0]\n",
    "\n",
    "# Solve the ODE\n",
    "solution = solve_ivp(\n",
    "    ode_system,\n",
    "    λ_span,\n",
    "    y0,\n",
    "    method='RK45',  \n",
    "    atol=1e-3,      # Adjust the absolute tolerance\n",
    "    rtol=1e-3,      # Adjust the relative tolerance\n",
    "    dense_output=False\n",
    ")\n",
    "\n",
    "# Extracting the solution\n",
    "λ_vals = np.linspace(λ_span[0], λ_span[1], 10) # or any other number of points you need\n",
    "r_vals = solution.sol(λ_vals)[0]\n",
    "\n",
    "# r_vals now contains the values of r for the corresponding λ_vals"
   ]
  }
 ],
 "metadata": {
  "kernelspec": {
   "display_name": "Python 3",
   "language": "python",
   "name": "python3"
  },
  "language_info": {
   "codemirror_mode": {
    "name": "ipython",
    "version": 3
   },
   "file_extension": ".py",
   "mimetype": "text/x-python",
   "name": "python",
   "nbconvert_exporter": "python",
   "pygments_lexer": "ipython3",
   "version": "3.8.10"
  }
 },
 "nbformat": 4,
 "nbformat_minor": 2
}
