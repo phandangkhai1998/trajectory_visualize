{
 "cells": [
  {
   "cell_type": "code",
   "execution_count": 1,
   "metadata": {},
   "outputs": [],
   "source": [
    "import numpy as np\n",
    "import json\n",
    "\n",
    "# Parameters\n",
    "N = 10  # Replace with your desired number of points\n",
    "\n",
    "# Generate a smoothly varying 3xN numpy array for 3D coordinates\n",
    "# Example: using sine and cosine functions for smooth variation\n",
    "t = np.linspace(0, 2*np.pi, N)\n",
    "x = np.sin(t)\n",
    "y = np.cos(t)\n",
    "z = t\n",
    "\n",
    "coordinates = np.array([x, y, z])\n",
    "\n",
    "# Save to JSON file\n",
    "with open('coordinates.json', 'w') as f:\n",
    "    json.dump(coordinates.tolist(), f)"
   ]
  }
 ],
 "metadata": {
  "kernelspec": {
   "display_name": "Python 3",
   "language": "python",
   "name": "python3"
  },
  "language_info": {
   "codemirror_mode": {
    "name": "ipython",
    "version": 3
   },
   "file_extension": ".py",
   "mimetype": "text/x-python",
   "name": "python",
   "nbconvert_exporter": "python",
   "pygments_lexer": "ipython3",
   "version": "3.8.10"
  }
 },
 "nbformat": 4,
 "nbformat_minor": 2
}
